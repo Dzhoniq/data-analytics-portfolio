{
 "cells": [
  {
   "cell_type": "markdown",
   "id": "59090772-03e5-4a43-a7c7-eebdfa709342",
   "metadata": {},
   "source": [
    "# Hypothesis Testing in Healthcare: Drug Safety\n",
    "\n",
    "A pharmaceutical company GlobalXYZ has just completed a randomized controlled drug trial. To promote transparency and reproducibility of the drug's outcome, they (GlobalXYZ) have presented the dataset to your organization, a non-profit that focuses primarily on drug safety.\n",
    "\n",
    "The dataset provided contained five adverse effects, demographic data, vital signs, etc. Your organization is primarily interested in the drug's adverse reactions. It wants to know if the adverse reactions, if any, are of significant proportions. It has asked you to explore and answer some questions from the data.\n",
    "\n",
    "The dataset `drug_safety.csv` was obtained from [Hbiostat](https://hbiostat.org/data/) courtesy of the Vanderbilt University Department of Biostatistics. It contained five adverse effects: headache, abdominal pain, dyspepsia, upper respiratory infection, chronic obstructive airway disease (COAD), demographic data, vital signs, lab measures, etc. The ratio of drug observations to placebo observations is 2 to 1.\n",
    "\n",
    "For this project, the dataset has been modified to reflect the presence and absence of adverse effects `adverse_effects` and the number of adverse effects in a single individual `num_effects`.\n",
    "\n",
    "The columns in the modified dataset are: \n",
    "\n",
    "| Column | Description |\n",
    "|--------|-------------|\n",
    "|`sex` | The gender of the individual |\n",
    "|`age` | The age of the individual |\n",
    "|`week` | The week of the drug testing |\n",
    "|`trx` | The treatment (Drug) and control (Placebo) groups | \n",
    "|`wbc` | The count of white blood cells |\n",
    "|`rbc` | The count of red blood cells |\n",
    "|`adverse_effects` | The presence of at least a single adverse effect |\n",
    "|`num_effects` | The number of adverse effects experienced by a single individual |\n",
    "\n",
    "The original dataset can be found [here](https://hbiostat.org/data/repo/safety.rda)"
   ]
  },
  {
   "cell_type": "markdown",
   "id": "aa72017f",
   "metadata": {},
   "source": [
    "First, we needed to to visualize the number of adverse effects in the Drug and Placebo groups, saving it as a variable called plot_num_eff. I used counttplot from seaborn to show the no. of adverse effects "
   ]
  },
  {
   "cell_type": "code",
   "execution_count": 35,
   "id": "62dc2a93-8a9c-4757-8aac-214c5de63e74",
   "metadata": {
    "executionCancelledAt": null,
    "executionTime": 216,
    "lastExecutedAt": 1690354248124,
    "lastScheduledRunId": null,
    "lastSuccessfullyExecutedCode": "# Import packages\nimport numpy as np\nimport pandas as pd\nfrom scipy.stats import norm\nfrom statsmodels.stats.proportion import proportions_ztest\nimport pingouin\nimport seaborn as sns\nimport matplotlib.pyplot as plt\n\n# Load the dataset\ndrug_safety = pd.read_csv(\"drug_safety.csv\")\n\n# Start coding here...\nplot_num_eff=sns.countplot(x='num_effects', data=drug_safety,  hue='trx')\nplt.xlabel(\"Number of Adverse effects\")\nplt.title(\"Distribution of the Number of Adverse Effects between the Groups\")\n",
    "scrolled": true
   },
   "outputs": [
    {
     "data": {
      "text/plain": [
       "Text(0.5, 1.0, 'Distribution of the Number of Adverse Effects between the Groups')"
      ]
     },
     "execution_count": 35,
     "metadata": {},
     "output_type": "execute_result"
    },
    {
     "data": {
      "image/png": "[encoded data removed]",
      "text/plain": [
       "<Figure size 640x480 with 1 Axes>"
      ]
     },
     "metadata": {},
     "output_type": "display_data"
    }
   ],
   "source": [
    "# Import packages\n",
    "import numpy as np\n",
    "import pandas as pd\n",
    "from scipy.stats import norm\n",
    "from statsmodels.stats.proportion import proportions_ztest\n",
    "import pingouin\n",
    "import seaborn as sns\n",
    "import matplotlib.pyplot as plt\n",
    "\n",
    "# Load the dataset\n",
    "drug_safety = pd.read_csv(\"drug_safety.csv\")\n",
    "\n",
    "\n",
    "plot_num_eff=sns.countplot(x='num_effects', data=drug_safety,  hue='trx')\n",
    "plt.xlabel(\"Number of Adverse effects\")\n",
    "plt.title(\"Distribution of the Number of Adverse Effects between the Groups\")\n"
   ]
  },
  {
   "cell_type": "markdown",
   "id": "282ee79d",
   "metadata": {},
   "source": [
    "As we can see the number of adverse effects between 2 groups are not different except for cases when there were 1 or 2 adverse effects. The number of participants with 1 adverse effect was more for the Drug group than Placebo group. "
   ]
  },
  {
   "cell_type": "code",
   "execution_count": 11,
   "id": "40d75de5",
   "metadata": {},
   "outputs": [
    {
     "name": "stdout",
     "output_type": "stream",
     "text": [
      "   age   sex   trx  week  wbc  rbc adverse_effects  num_effects\n",
      "0   62  male  Drug     0  7.3  5.1              No            0\n",
      "1   62  male  Drug     1  NaN  NaN              No            0\n",
      "2   62  male  Drug    12  5.6  5.0              No            0\n",
      "3   62  male  Drug    16  NaN  NaN              No            0\n",
      "4   62  male  Drug     2  6.6  5.1              No            0\n"
     ]
    },
    {
     "data": {
      "text/plain": [
       "0    14567\n",
       "1     1442\n",
       "2       88\n",
       "3        6\n",
       "Name: num_effects, dtype: int64"
      ]
     },
     "execution_count": 11,
     "metadata": {},
     "output_type": "execute_result"
    }
   ],
   "source": [
    "print(drug_safety.head())\n",
    "drug_safety['num_effects'].value_counts()"
   ]
  },
  {
   "cell_type": "markdown",
   "id": "16bd316f",
   "metadata": {},
   "source": [
    "## Checkeing whether the differece in adverse effects is significant between the groups \n",
    "- H0: There is no significant difference in the proportion of adverse effects between the groups\n",
    "- H1: There is a significant difference in the proportion of adverse effects between the groups\n",
    "Now, to check whether this difference is significant or not, we conduct a two-sample z-test. This two-sample z-test helps to determine if the proportion of adverse effects differs significantly between the Drug and Place groups. We use proportion_ztest() and save the results as two_samp_z_test & two_samp_z_p_value(), rounding it to 3 decimal places. "
   ]
  },
  {
   "cell_type": "code",
   "execution_count": 15,
   "id": "baea9462-3df1-4d91-89a1-0859a03e16d2",
   "metadata": {
    "executionCancelledAt": null,
    "executionTime": 48,
    "lastExecutedAt": 1690354248173,
    "lastScheduledRunId": null,
    "lastSuccessfullyExecutedCode": "# Count the adverse_effects column values for each trx group\nadv_eff_by_trx = drug_safety.groupby(\"trx\").adverse_effects.value_counts()\n"
   },
   "outputs": [
    {
     "name": "stdout",
     "output_type": "stream",
     "text": [
      "trx      adverse_effects\n",
      "Drug     No                 9703\n",
      "         Yes                1024\n",
      "Placebo  No                 4864\n",
      "         Yes                 512\n",
      "Name: adverse_effects, dtype: int64\n"
     ]
    }
   ],
   "source": [
    "# First, we count the adverse_effects column values for each trx group\n",
    "adv_eff_by_trx = drug_safety.groupby(\"trx\").adverse_effects.value_counts()\n",
    "print(adv_eff_by_trx)"
   ]
  },
  {
   "cell_type": "code",
   "execution_count": 16,
   "id": "e5c61c92-2d83-4d87-b487-2f537683b4ef",
   "metadata": {
    "executionCancelledAt": null,
    "executionTime": 48,
    "lastExecutedAt": 1690354248221,
    "lastScheduledRunId": null,
    "lastSuccessfullyExecutedCode": "# Compute total rows in each group\nadv_eff_by_trx_totals = adv_eff_by_trx.groupby(\"trx\").sum()"
   },
   "outputs": [
    {
     "name": "stdout",
     "output_type": "stream",
     "text": [
      "trx\n",
      "Drug       10727\n",
      "Placebo     5376\n",
      "Name: adverse_effects, dtype: int64\n"
     ]
    }
   ],
   "source": [
    "# Then we compute total rows in each group\n",
    "adv_eff_by_trx_totals = adv_eff_by_trx.groupby(\"trx\").sum()\n",
    "print(adv_eff_by_trx_totals)"
   ]
  },
  {
   "cell_type": "code",
   "execution_count": 17,
   "id": "31680e6a-ffb7-4a85-9e34-8f0844b48029",
   "metadata": {
    "executionCancelledAt": null,
    "executionTime": 52,
    "lastExecutedAt": 1690354248273,
    "lastScheduledRunId": null,
    "lastSuccessfullyExecutedCode": "# Create an array of the \"Yes\" counts for each group \nyeses= [adv_eff_by_trx['Drug']['Yes'], adv_eff_by_trx['Placebo']['Yes']]"
   },
   "outputs": [
    {
     "name": "stdout",
     "output_type": "stream",
     "text": [
      "[1024, 512]\n"
     ]
    }
   ],
   "source": [
    "# Then we create an array of the \"Yes\" counts for each group \n",
    "yeses= [adv_eff_by_trx['Drug']['Yes'], adv_eff_by_trx['Placebo']['Yes']]\n",
    "print(yeses)"
   ]
  },
  {
   "cell_type": "code",
   "execution_count": 18,
   "id": "f7b562c7-7578-499c-920f-ae0d5a78fe54",
   "metadata": {
    "executionCancelledAt": null,
    "executionTime": 48,
    "lastExecutedAt": 1690354248321,
    "lastScheduledRunId": null,
    "lastSuccessfullyExecutedCode": "# Create an array of the total number of ros in each group \nn = [adv_eff_by_trx_totals['Drug'], adv_eff_by_trx_totals['Placebo']]"
   },
   "outputs": [
    {
     "name": "stdout",
     "output_type": "stream",
     "text": [
      "[10727, 5376]\n"
     ]
    }
   ],
   "source": [
    "# After that we create an array of the total number of rows in each group \n",
    "n = [adv_eff_by_trx_totals['Drug'], adv_eff_by_trx_totals['Placebo']]\n",
    "print(n)"
   ]
  },
  {
   "cell_type": "code",
   "execution_count": 19,
   "id": "d0f70007-cffc-415f-a409-b18eca9ce425",
   "metadata": {
    "executionCancelledAt": null,
    "executionTime": 48,
    "lastExecutedAt": 1690354248369,
    "lastScheduledRunId": null,
    "lastSuccessfullyExecutedCode": "two_samp_z_stat, two_samp_z_p_value = proportions_ztest(yeses, n)"
   },
   "outputs": [],
   "source": [
    "# Finally, we apply proportion_ztest() function\n",
    "two_samp_z_stat, two_samp_z_p_value = proportions_ztest(yeses, n)"
   ]
  },
  {
   "cell_type": "code",
   "execution_count": 21,
   "id": "564c5ce1-1e49-4f33-8f97-147db4d146b7",
   "metadata": {
    "executionCancelledAt": null,
    "executionTime": 48,
    "lastExecutedAt": 1690354248417,
    "lastScheduledRunId": null,
    "lastSuccessfullyExecutedCode": "two_samp_z_stat = np.round(two_samp_z_stat, 3)\ntwo_samp_z_p_value=np.round(two_samp_z_p_value, 3)"
   },
   "outputs": [
    {
     "name": "stdout",
     "output_type": "stream",
     "text": [
      "0.045 0.964\n"
     ]
    }
   ],
   "source": [
    "# and round the final values to 3 decimal places\n",
    "two_samp_z_stat = np.round(two_samp_z_stat, 3)\n",
    "two_samp_z_p_value=np.round(two_samp_z_p_value, 3)\n",
    "print(two_samp_z_stat, two_samp_z_p_value)"
   ]
  },
  {
   "cell_type": "markdown",
   "id": "225e4f35",
   "metadata": {},
   "source": [
    "According to the results, p_value of 0.964 we fail to reject the null hypothesis that the proportion of adverse effect is the same. In other words, the null hypothesis that there is no difference in proportion of patients that indicated they had adverse effects is not rejected. "
   ]
  },
  {
   "cell_type": "code",
   "execution_count": 142,
   "id": "1ba22531-d637-4394-b431-39bc8a7944f8",
   "metadata": {
    "executionCancelledAt": null,
    "executionTime": 48,
    "lastExecutedAt": 1690354248465,
    "lastScheduledRunId": null,
    "lastSuccessfullyExecutedCode": "# Two samples proportions z-test\np_hats=drug_safety.groupby('trx')['adverse_effects'].value_counts(normalize=True)\nprint(p_hats)",
    "outputsMetadata": {
     "0": {
      "height": 133,
      "type": "stream"
     }
    }
   },
   "outputs": [
    {
     "name": "stdout",
     "output_type": "stream",
     "text": [
      "trx      adverse_effects\n",
      "Drug     No                 0.904540\n",
      "         Yes                0.095460\n",
      "Placebo  No                 0.904762\n",
      "         Yes                0.095238\n",
      "Name: adverse_effects, dtype: float64\n"
     ]
    }
   ],
   "source": [
    "# Two samples proportions z-test\n",
    "p_hats=drug_safety.groupby('trx')['adverse_effects'].value_counts(normalize=True)\n",
    "print(p_hats)"
   ]
  },
  {
   "cell_type": "code",
   "execution_count": 143,
   "id": "b260d9bd-3880-4ae2-94ff-28af4c3e8433",
   "metadata": {
    "executionCancelledAt": null,
    "executionTime": 52,
    "lastExecutedAt": 1690354248517,
    "lastScheduledRunId": null,
    "lastSuccessfullyExecutedCode": "drug_safety.groupby('trx')['adverse_effects'].value_counts()"
   },
   "outputs": [
    {
     "data": {
      "text/plain": [
       "trx      adverse_effects\n",
       "Drug     No                 9703\n",
       "         Yes                1024\n",
       "Placebo  No                 4864\n",
       "         Yes                 512\n",
       "Name: adverse_effects, dtype: int64"
      ]
     },
     "execution_count": 143,
     "metadata": {},
     "output_type": "execute_result"
    }
   ],
   "source": [
    "drug_safety.groupby('trx')['adverse_effects'].value_counts()"
   ]
  },
  {
   "cell_type": "code",
   "execution_count": 22,
   "id": "23604db4-03c8-4f83-89b9-5c2942219298",
   "metadata": {
    "executionCancelledAt": null,
    "executionTime": 48,
    "lastExecutedAt": 1690354248565,
    "lastScheduledRunId": null,
    "lastSuccessfullyExecutedCode": "n_adv_eff=np.array([1023, 512])\nn_rows=np.array([9703+1024, 4864+512])"
   },
   "outputs": [],
   "source": [
    "n_adv_eff=np.array([1024, 512])\n",
    "n_rows=np.array([9703+1024, 4864+512])"
   ]
  },
  {
   "cell_type": "code",
   "execution_count": 23,
   "id": "ba940b71-fc0f-4e86-93fd-da89860fce8b",
   "metadata": {
    "executionCancelledAt": null,
    "executionTime": 48,
    "lastExecutedAt": 1690354248613,
    "lastScheduledRunId": null,
    "lastSuccessfullyExecutedCode": "from statsmodels.stats.proportion import proportions_ztest\ntwo_samp_z_stat, two_samp_z_p_value = proportions_ztest(count=n_adv_eff, nobs=n_rows, alternative='two-sided')\nprint(two_samp_z_stat, two_samp_z_p_value)",
    "outputsMetadata": {
     "0": {
      "height": 35,
      "type": "stream"
     }
    }
   },
   "outputs": [
    {
     "name": "stdout",
     "output_type": "stream",
     "text": [
      "0.0452182684494942 0.9639333330262475\n"
     ]
    }
   ],
   "source": [
    "from statsmodels.stats.proportion import proportions_ztest\n",
    "two_samp_z_stat, two_samp_z_p_value = proportions_ztest(count=n_adv_eff, nobs=n_rows, alternative='two-sided')\n",
    "print(two_samp_z_stat, two_samp_z_p_value)"
   ]
  },
  {
   "cell_type": "code",
   "execution_count": 24,
   "id": "7c75fa18-c550-4d8a-9bd7-46fd5abe7178",
   "metadata": {
    "executionCancelledAt": null,
    "executionTime": 53,
    "lastExecutedAt": 1690354248666,
    "lastScheduledRunId": null,
    "lastSuccessfullyExecutedCode": "# Round to three decimal places\ntwo_samp_z_stat = np.round(two_samp_z_stat, 3)\n\ntwo_samp_z_p_value = np.round(two_samp_z_p_value, 3)"
   },
   "outputs": [],
   "source": [
    "# Round to three decimal places\n",
    "two_samp_z_stat = np.round(two_samp_z_stat, 3)\n",
    "two_samp_z_p_value = np.round(two_samp_z_p_value, 3)"
   ]
  },
  {
   "cell_type": "markdown",
   "id": "f6edc20c",
   "metadata": {},
   "source": [
    "The next question from the organization was to check if the number of adverse effects is independent of the groups. To check it we were asked to use Chi-square test of independence from pingouin package. "
   ]
  },
  {
   "cell_type": "markdown",
   "id": "4f2843df-7156-4416-9d6e-03d539aa6536",
   "metadata": {},
   "source": [
    "## Declaring the hypotheses (Chi-square test of Independence)\n",
    "- H0: The number of adverse effects is independent of the group type (placebo or drug)\n",
    "- H1: The number of adverse effects is not independent of the group type (placebo or drug)\n",
    "- We set the significance level alpha = 0.01 (as this is about healthcare, we should set lower significance level to avoid type 1 error) "
   ]
  },
  {
   "cell_type": "code",
   "execution_count": 25,
   "id": "027eaac2-3843-4604-a804-aa62194cac9b",
   "metadata": {
    "executionCancelledAt": null,
    "executionTime": 51,
    "lastExecutedAt": 1690354248717,
    "lastScheduledRunId": null,
    "lastSuccessfullyExecutedCode": "import pingouin \nexpected, observed, stats = pingouin.chi2_independence(data=drug_safety, x='num_effects', y='trx')\nstats=stats.round(3)\nprint(stats)\npearson_num_effect_trx=stats[0:1]\nprint(pearson_num_effect_trx)\nprint('Fail to reject the null hypothesis')",
    "outputsMetadata": {
     "0": {
      "height": 211,
      "type": "stream"
     }
    }
   },
   "outputs": [
    {
     "name": "stdout",
     "output_type": "stream",
     "text": [
      "                 test  lambda   chi2  dof   pval  cramer  power\n",
      "0             pearson   1.000  1.800  3.0  0.615   0.011  0.176\n",
      "1        cressie-read   0.667  1.836  3.0  0.607   0.011  0.179\n",
      "2      log-likelihood   0.000  1.922  3.0  0.589   0.011  0.186\n",
      "3       freeman-tukey  -0.500  2.002  3.0  0.572   0.011  0.192\n",
      "4  mod-log-likelihood  -1.000  2.096  3.0  0.553   0.011  0.200\n",
      "5              neyman  -2.000  2.344  3.0  0.504   0.012  0.220\n",
      "      test  lambda  chi2  dof   pval  cramer  power\n",
      "0  pearson     1.0   1.8  3.0  0.615   0.011  0.176\n",
      "Fail to reject the null hypothesis\n"
     ]
    },
    {
     "name": "stderr",
     "output_type": "stream",
     "text": [
      "/Users/zhandossagyntay/opt/anaconda3/lib/python3.9/site-packages/pingouin/contingency.py:150: UserWarning: Low count on observed frequencies.\n",
      "  warnings.warn(\"Low count on {} frequencies.\".format(name))\n",
      "/Users/zhandossagyntay/opt/anaconda3/lib/python3.9/site-packages/pingouin/contingency.py:150: UserWarning: Low count on expected frequencies.\n",
      "  warnings.warn(\"Low count on {} frequencies.\".format(name))\n"
     ]
    }
   ],
   "source": [
    "import pingouin \n",
    "expected, observed, stats = pingouin.chi2_independence(data=drug_safety, x='num_effects', y='trx')\n",
    "stats=stats.round(3)\n",
    "print(stats)\n",
    "pearson_num_effect_trx=stats[0:1]\n",
    "print(pearson_num_effect_trx)\n",
    "print('Fail to reject the null hypothesis')"
   ]
  },
  {
   "cell_type": "markdown",
   "id": "19205f81",
   "metadata": {},
   "source": [
    "The p value was 0.615, which is greater than our significance level. This means that we fail to reject the null hypothesis. Thus, the number of adverse effects is independent of the group type. "
   ]
  },
  {
   "cell_type": "markdown",
   "id": "9adf9fed",
   "metadata": {},
   "source": [
    "## The age distribution of age in the Drug and Placebo groups \n",
    "The organization also asked to look at the age disribution in the groups."
   ]
  },
  {
   "cell_type": "code",
   "execution_count": 27,
   "id": "0f1aff1f-d707-453e-8923-08b64866d2ad",
   "metadata": {
    "executionCancelledAt": null,
    "executionTime": 374,
    "lastExecutedAt": 1690354249091,
    "lastScheduledRunId": null,
    "lastSuccessfullyExecutedCode": "## The distribution of age in the Drug and Placebo groups \n_, (ax1, ax2) = plt.subplots(1, 2, figsize=(12, 6))\n\n# Set x and y axes labels \nxlabel= \"Age (years)\"\nylabel= \"Frequency\"\n\ndf_drug = drug_safety[drug_safety['trx'] == 'Drug']\ndf_placebo = drug_safety[drug_safety['trx'] == 'Placebo']\nax1.hist(df_drug['age'], bins=30, label='Drug group')\nax2.hist(df_placebo['age'], bins=30, label='Placebo group')\nax1.set_xlabel(xlabel)\nax2.set_xlabel(xlabel)\nax1.set_ylabel(ylabel)\nax2.set_ylabel(ylabel)\nax1.set_title('Distribution of Age in the Drug Group')\nax2.set_title('Distribution of Age in the Placebo Group')"
   },
   "outputs": [
    {
     "data": {
      "text/plain": [
       "Text(0.5, 1.0, 'Distribution of Age in the Placebo Group')"
      ]
     },
     "execution_count": 27,
     "metadata": {},
     "output_type": "execute_result"
    },
    {
     "data": {
      "image/png": "[encoded data removed]",
      "text/plain": [
       "<Figure size 1200x600 with 2 Axes>"
      ]
     },
     "metadata": {},
     "output_type": "display_data"
    }
   ],
   "source": [
    "## The distribution of age in the Drug and Placebo groups \n",
    "_, (ax1, ax2) = plt.subplots(1, 2, figsize=(12, 6))\n",
    "\n",
    "# Set x and y axes labels \n",
    "xlabel= \"Age (years)\"\n",
    "ylabel= \"Frequency\"\n",
    "\n",
    "df_drug = drug_safety[drug_safety['trx'] == 'Drug']\n",
    "df_placebo = drug_safety[drug_safety['trx'] == 'Placebo']\n",
    "ax1.hist(df_drug['age'], bins=30, label='Drug group')\n",
    "ax2.hist(df_placebo['age'], bins=30, label='Placebo group')\n",
    "ax1.set_xlabel(xlabel)\n",
    "ax2.set_xlabel(xlabel)\n",
    "ax1.set_ylabel(ylabel)\n",
    "ax2.set_ylabel(ylabel)\n",
    "ax1.set_title('Distribution of Age in the Drug Group')\n",
    "ax2.set_title('Distribution of Age in the Placebo Group')"
   ]
  },
  {
   "cell_type": "code",
   "execution_count": 28,
   "id": "15fdcf89-71ca-4945-94d5-d3fbe4d9265f",
   "metadata": {
    "executionCancelledAt": null,
    "executionTime": 46,
    "lastExecutedAt": 1690354249137,
    "lastScheduledRunId": null,
    "lastSuccessfullyExecutedCode": "# The Drug group's age distribution\nax1.hist(x=\"age\", data=drug_safety[drug_safety[\"trx\"] == \"Drug\"], bins=30)\nax1.set_xlabel(xlabel)\nax1.set_ylabel(ylabel)\nax1.set_title(\"Distribution of Age in the Drug Group\")"
   },
   "outputs": [
    {
     "data": {
      "text/plain": [
       "Text(0.5, 1.0, 'Distribution of Age in the Drug Group')"
      ]
     },
     "execution_count": 28,
     "metadata": {},
     "output_type": "execute_result"
    }
   ],
   "source": [
    "# The Drug group's age distribution\n",
    "ax1.hist(x=\"age\", data=drug_safety[drug_safety[\"trx\"] == \"Drug\"], bins=30)\n",
    "ax1.set_xlabel(xlabel)\n",
    "ax1.set_ylabel(ylabel)\n",
    "ax1.set_title(\"Distribution of Age in the Drug Group\")"
   ]
  },
  {
   "cell_type": "code",
   "execution_count": 29,
   "id": "8c6caaac-273d-4fd9-ac08-e62892fdab25",
   "metadata": {
    "executionCancelledAt": null,
    "executionTime": 48,
    "lastExecutedAt": 1690354249185,
    "lastScheduledRunId": null,
    "lastSuccessfullyExecutedCode": "# The Placebo group's age distribution\nax2.hist(x=\"age\", data=drug_safety[drug_safety[\"trx\"] == \"Placebo\"], bins=30)\nax2.set_xlabel(xlabel)\nax2.set_ylabel(ylabel)\nax2.set_title(\"Distribution of Age in the Placebo Group\")"
   },
   "outputs": [
    {
     "data": {
      "text/plain": [
       "Text(0.5, 1.0, 'Distribution of Age in the Placebo Group')"
      ]
     },
     "execution_count": 29,
     "metadata": {},
     "output_type": "execute_result"
    }
   ],
   "source": [
    "# The Placebo group's age distribution\n",
    "ax2.hist(x=\"age\", data=drug_safety[drug_safety[\"trx\"] == \"Placebo\"], bins=30)\n",
    "ax2.set_xlabel(xlabel)\n",
    "ax2.set_ylabel(ylabel)\n",
    "ax2.set_title(\"Distribution of Age in the Placebo Group\")"
   ]
  },
  {
   "cell_type": "markdown",
   "id": "83fa153e",
   "metadata": {},
   "source": [
    "According to the visualization, the distribution is not following normal distribution. Hence, it's better to use non-parametric test to check the whether there was a difference in age between the groups."
   ]
  },
  {
   "cell_type": "markdown",
   "id": "4a5154ef-5e04-4894-8232-df681ee129a8",
   "metadata": {},
   "source": [
    "## Non-parametric test - Wicoxon-Main-Whitney test\n",
    "As there are 2 samples and the data is unpaired, we will conduct a two-sided Wilcoxon-Main-Whitney test and round it to 3 decimal places. \n",
    "## Hypotheses\n",
    "- Q: Was the age difference between the Drug and Place groups significant? \n",
    "- H0:  There is no significant difference in the median age between the Drug and Placebo groups.\n",
    "    - H0: X_median_age_drug-X_median_age_placebo=0\n",
    "- H1: The median age of the Drug group is significantly different from the median age of the Placebo group.\n",
    "    - H1: X_median_age_drug-X_median_age_placebo>0"
   ]
  },
  {
   "cell_type": "code",
   "execution_count": 30,
   "id": "08955b14-0bd7-40fb-94ef-9c5077988a23",
   "metadata": {
    "executionCancelledAt": null,
    "executionTime": 56,
    "lastExecutedAt": 1690354249241,
    "lastScheduledRunId": null,
    "lastSuccessfullyExecutedCode": "alpha = 0.05\nage_drug=drug_safety.loc[drug_safety['trx'] == 'Drug', 'age']"
   },
   "outputs": [],
   "source": [
    "alpha = 0.05\n",
    "age_drug=drug_safety.loc[drug_safety['trx'] == 'Drug', 'age']"
   ]
  },
  {
   "cell_type": "code",
   "execution_count": 31,
   "id": "c10d3a74-4715-4572-af36-168f9f1cb26e",
   "metadata": {
    "executionCancelledAt": null,
    "executionTime": 52,
    "lastExecutedAt": 1690354249293,
    "lastScheduledRunId": null,
    "lastSuccessfullyExecutedCode": "age_placebo=drug_safety.loc[drug_safety['trx'] == 'Placebo', 'age']"
   },
   "outputs": [],
   "source": [
    "age_placebo=drug_safety.loc[drug_safety['trx'] == 'Placebo', 'age']"
   ]
  },
  {
   "cell_type": "code",
   "execution_count": 34,
   "id": "ba12bfeb-dc5a-4349-b428-c259854e34d1",
   "metadata": {
    "executionCancelledAt": null,
    "executionTime": 270,
    "lastExecutedAt": 1690354249611,
    "lastScheduledRunId": null,
    "lastSuccessfullyExecutedCode": "# Select the age of the Drug group\nage_trx = drug_safety.loc[drug_safety[\"trx\"] == \"Drug\", \"age\"]\n\n# Select the age of the Placebo group\nage_placebo = drug_safety.loc[drug_safety[\"trx\"] == \"Placebo\", \"age\"]\n\n\n# The distributions strongly suggest a\n# non-parametric independent samples test.\n# Conduct a two-sided Wilcoxon-Mann-Whitney test\n# and round to three decimal places\ntwo_samp_ind_results = pingouin.mwu(age_trx, age_placebo).round(3)"
   },
   "outputs": [
    {
     "name": "stdout",
     "output_type": "stream",
     "text": [
      "          U-val alternative  p-val    RBC   CLES\n",
      "MWU  29149339.5   two-sided  0.257 -0.011  0.505\n"
     ]
    }
   ],
   "source": [
    "two_samp_ind_results = pingouin.mwu(age_drug, age_placebo).round(3)\n",
    "print(two_samp_ind_results)"
   ]
  },
  {
   "cell_type": "markdown",
   "id": "ca9c2730",
   "metadata": {},
   "source": [
    "The p value is 0.257 and it's greater than the significance level. Thus, we fail to reject the null hypothesis. That means there is no significant difference in median age between the Drug and Placebo groups. "
   ]
  },
  {
   "cell_type": "code",
   "execution_count": null,
   "id": "22f63866",
   "metadata": {},
   "outputs": [],
   "source": []
  }
 ],
 "metadata": {
  "colab": {
   "name": "Welcome to DataCamp Workspaces.ipynb",
   "provenance": []
  },
  "kernelspec": {
   "display_name": "Python 3 (ipykernel)",
   "language": "python",
   "name": "python3"
  },
  "language_info": {
   "codemirror_mode": {
    "name": "ipython",
    "version": 3
   },
   "file_extension": ".py",
   "mimetype": "text/x-python",
   "name": "python",
   "nbconvert_exporter": "python",
   "pygments_lexer": "ipython3",
   "version": "3.9.13"
  }
 },
 "nbformat": 4,
 "nbformat_minor": 5
}
